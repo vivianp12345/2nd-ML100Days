{
 "cells": [
  {
   "cell_type": "code",
   "execution_count": 3,
   "metadata": {},
   "outputs": [],
   "source": [
    "import numpy as np\n",
    "import matplotlib.pyplot as plt"
   ]
  },
  {
   "cell_type": "code",
   "execution_count": 4,
   "metadata": {},
   "outputs": [
    {
     "data": {
      "image/png": "[encoded data removed]",
      "text/plain": [
       "<Figure size 432x288 with 1 Axes>"
      ]
     },
     "metadata": {
      "needs_background": "light"
     },
     "output_type": "display_data"
    }
   ],
   "source": [
    "w = 3\n",
    "b = 0.5\n",
    "\n",
    "x_lin = np.linspace(0, 100, 101)\n",
    "\n",
    "y = (x_lin + np.random.randn(101) * 5) * w + b\n",
    "\n",
    "plt.plot(x_lin, y, 'b.', label = 'data points')\n",
    "plt.title(\"Assume we have data points\")\n",
    "plt.legend(loc = 2)\n",
    "plt.show()"
   ]
  },
  {
   "cell_type": "code",
   "execution_count": 5,
   "metadata": {},
   "outputs": [
    {
     "data": {
      "image/png": "[encoded data removed]",
      "text/plain": [
       "<Figure size 432x288 with 1 Axes>"
      ]
     },
     "metadata": {
      "needs_background": "light"
     },
     "output_type": "display_data"
    }
   ],
   "source": [
    "y_hat = x_lin * w + b\n",
    "plt.plot(x_lin, y, 'b.', label = 'data')\n",
    "plt.plot(x_lin, y_hat, 'r-', label = 'prediction')\n",
    "plt.title(\"Assume we have data points (And the prediction)\")\n",
    "plt.legend(loc = 2)\n",
    "plt.show()"
   ]
  },
  {
   "cell_type": "code",
   "execution_count": 6,
   "metadata": {},
   "outputs": [],
   "source": [
    "#MSE函式\n",
    "def mean_squared_error(y, yp):\n",
    "\n",
    "    mse = MSE = sum((yp-y)**2) / len(y)\n",
    "    return mse\n",
    "\n",
    "MSE = mean_squared_error(y, y_hat)"
   ]
  },
  {
   "cell_type": "code",
   "execution_count": 7,
   "metadata": {},
   "outputs": [],
   "source": [
    "def mean_absolute_error(y, yp):\n",
    "    \"\"\"\n",
    "    計算 MAE\n",
    "    Args:\n",
    "        - y: 實際值\n",
    "        - yp: 預測值\n",
    "    Return:\n",
    "        - mae: MAE\n",
    "    \"\"\"\n",
    "    mae = MAE = sum(abs(y - yp)) / len(y)\n",
    "    return mae\n",
    "\n",
    "MAE = mean_absolute_error(y, y_hat)"
   ]
  },
  {
   "cell_type": "code",
   "execution_count": 8,
   "metadata": {},
   "outputs": [
    {
     "name": "stdout",
     "output_type": "stream",
     "text": [
      "The Mean absolute error is 13.498\n",
      "The Mean square error is 273.764\n"
     ]
    }
   ],
   "source": [
    "print(\"The Mean absolute error is %.3f\" % (MAE))\n",
    "print(\"The Mean square error is %.3f\" % (MSE))"
   ]
  },
  {
   "cell_type": "code",
   "execution_count": 9,
   "metadata": {},
   "outputs": [
    {
     "name": "stdout",
     "output_type": "stream",
     "text": [
      "<class 'numpy.ndarray'>\n"
     ]
    }
   ],
   "source": [
    "print(type(y))"
   ]
  },
  {
   "cell_type": "code",
   "execution_count": 10,
   "metadata": {},
   "outputs": [
    {
     "name": "stdout",
     "output_type": "stream",
     "text": [
      "[  0.   1.   2.   3.   4.   5.   6.   7.   8.   9.  10.  11.  12.  13.\n",
      "  14.  15.  16.  17.  18.  19.  20.  21.  22.  23.  24.  25.  26.  27.\n",
      "  28.  29.  30.  31.  32.  33.  34.  35.  36.  37.  38.  39.  40.  41.\n",
      "  42.  43.  44.  45.  46.  47.  48.  49.  50.  51.  52.  53.  54.  55.\n",
      "  56.  57.  58.  59.  60.  61.  62.  63.  64.  65.  66.  67.  68.  69.\n",
      "  70.  71.  72.  73.  74.  75.  76.  77.  78.  79.  80.  81.  82.  83.\n",
      "  84.  85.  86.  87.  88.  89.  90.  91.  92.  93.  94.  95.  96.  97.\n",
      "  98.  99. 100.]\n",
      "<class 'numpy.ndarray'>\n"
     ]
    }
   ],
   "source": [
    "print(x_lin)\n",
    "print(type(x_lin))"
   ]
  },
  {
   "cell_type": "code",
   "execution_count": 11,
   "metadata": {},
   "outputs": [
    {
     "name": "stdout",
     "output_type": "stream",
     "text": [
      "-10.089766011201494\n"
     ]
    }
   ],
   "source": [
    "print(y[0])"
   ]
  },
  {
   "cell_type": "code",
   "execution_count": 12,
   "metadata": {},
   "outputs": [
    {
     "name": "stdout",
     "output_type": "stream",
     "text": [
      "273.76386403298596\n"
     ]
    }
   ],
   "source": [
    "#驗證MSE\n",
    "from sklearn.metrics import mean_squared_error\n",
    "a = mean_squared_error(y, y_hat)\n",
    "print(a)"
   ]
  },
  {
   "cell_type": "code",
   "execution_count": 13,
   "metadata": {},
   "outputs": [
    {
     "name": "stdout",
     "output_type": "stream",
     "text": [
      "0.375 0.375\n"
     ]
    }
   ],
   "source": [
    "y_true = [3, -0.5, 2, 7]\n",
    "y_pred = [2.5, 0.0, 2, 8]\n",
    "ex = mean_squared_error(y_true, y_pred)\n",
    "MSE = mean_squared_error(y_true, y_pred)\n",
    "print(ex,MSE)"
   ]
  },
  {
   "cell_type": "code",
   "execution_count": 14,
   "metadata": {},
   "outputs": [
    {
     "data": {
      "text/plain": [
       "'\\n作業1\\n選擇之資料：Black Friday－A study of sales trough consumer behaviours\\n1.\\t這組資料之所以重要是因為Black Friday是美國知名的折扣季，透過Black Friday的銷售資料分析可以了解顧客購買的東西，與平時沒打折時的消費行為有何不同之處、顧客的消費潛力與找出相似的顧客群做商品推播…等，以利往後的Black Friday行銷規劃，使業績逐年攀升。\\n2.\\t資料是由Analytics Vidhya舉辦的競賽提供，其放在Kaggle網站上供人瀏覽及下載。\\n3.\\t資料型態為結構化之表格\\n4.\\t使用Cluster Analysis把資料樣本中相似的族群找出，以分析其消費習慣相似之處，並透過SVM預測消費者可能也會有興趣之商品。\\n\\n作業2\\n1.\\t核心問題為如何提高台北市各區的載客率。\\n2.\\t主要蒐集的資料之一為公司密集區及觀光熱區，蒐集來源為人力資源網站上各公司的地址、TripAdvisor網站上台北市觀光景點排名及Google Map上最多外國人評價的地標；另外蒐集天氣資料，由車隊內系統統計過去有下雨及沒下雨的載客人數；還有透過車隊系統蒐集各區各時段的載客數。\\n3.\\t資料型態為結構化之表格。\\n4.\\t透過交叉分析公司密集區與觀光熱區、各區各時段的載客數，可以再對的時間增派車子，例如公司密集區的上班族通勤時間通常為朝九晚五，早上7:30~10:00和晚上5:00~7:00即可增加在公司密集區的車子數量；而觀光區則是視景點類型及性質決定，例如夜市在晚上最為熱鬧，晚上即可增加車子數量；透過分析車隊過去的載客率及天氣資料，若是雨天的載客率比晴天多，也可以增派車數。\\n'"
      ]
     },
     "execution_count": 14,
     "metadata": {},
     "output_type": "execute_result"
    }
   ],
   "source": [
    "#D1：資料介紹與評估資料\n",
    "'''\n",
    "作業1\n",
    "選擇之資料：Black Friday－A study of sales trough consumer behaviours\n",
    "1.\t這組資料之所以重要是因為Black Friday是美國知名的折扣季，透過Black Friday的銷售資料分析可以了解顧客購買的東西，與平時沒打折時的消費行為有何不同之處、顧客的消費潛力與找出相似的顧客群做商品推播…等，以利往後的Black Friday行銷規劃，使業績逐年攀升。\n",
    "2.\t資料是由Analytics Vidhya舉辦的競賽提供，其放在Kaggle網站上供人瀏覽及下載。\n",
    "3.\t資料型態為結構化之表格\n",
    "4.\t使用Cluster Analysis把資料樣本中相似的族群找出，以分析其消費習慣相似之處，並透過SVM預測消費者可能也會有興趣之商品。\n",
    "\n",
    "作業2\n",
    "1.\t核心問題為如何提高台北市各區的載客率。\n",
    "2.\t主要蒐集的資料之一為公司密集區及觀光熱區，蒐集來源為人力資源網站上各公司的地址、TripAdvisor網站上台北市觀光景點排名及Google Map上最多外國人評價的地標；另外蒐集天氣資料，由車隊內系統統計過去有下雨及沒下雨的載客人數；還有透過車隊系統蒐集各區各時段的載客數。\n",
    "3.\t資料型態為結構化之表格。\n",
    "4.\t透過交叉分析公司密集區與觀光熱區、各區各時段的載客數，可以再對的時間增派車子，例如公司密集區的上班族通勤時間通常為朝九晚五，早上7:30~10:00和晚上5:00~7:00即可增加在公司密集區的車子數量；而觀光區則是視景點類型及性質決定，例如夜市在晚上最為熱鬧，晚上即可增加車子數量；透過分析車隊過去的載客率及天氣資料，若是雨天的載客率比晴天多，也可以增派車數。\n",
    "'''\n"
   ]
  }
 ],
 "metadata": {
  "kernelspec": {
   "display_name": "Python 3",
   "language": "python",
   "name": "python3"
  },
  "language_info": {
   "codemirror_mode": {
    "name": "ipython",
    "version": 3
   },
   "file_extension": ".py",
   "mimetype": "text/x-python",
   "name": "python",
   "nbconvert_exporter": "python",
   "pygments_lexer": "ipython3",
   "version": "3.7.3"
  }
 },
 "nbformat": 4,
 "nbformat_minor": 2
}
