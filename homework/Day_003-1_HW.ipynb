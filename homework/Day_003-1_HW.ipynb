{
 "cells": [
  {
   "cell_type": "code",
   "execution_count": 19,
   "metadata": {},
   "outputs": [],
   "source": [
    "import pandas as pd\n",
    "import numpy as np\n",
    "from random import *"
   ]
  },
  {
   "cell_type": "code",
   "execution_count": 20,
   "metadata": {},
   "outputs": [
    {
     "name": "stdout",
     "output_type": "stream",
     "text": [
      "             國家        人口\n",
      "0        Taiwan  31939152\n",
      "1  United State  70407923\n",
      "2      Thailand  44728224\n"
     ]
    }
   ],
   "source": [
    "data = {'國家':['Taiwan','United State','Thailand'] ,\n",
    "        '人口':[randint(100, 100000000),randint(100, 100000000),randint(100, 100000000)] }\n",
    "pd_data = pd.DataFrame(data)\n",
    "print(pd_data)"
   ]
  },
  {
   "cell_type": "code",
   "execution_count": 21,
   "metadata": {},
   "outputs": [
    {
     "name": "stdout",
     "output_type": "stream",
     "text": [
      "[31939152, 70407923, 44728224]\n"
     ]
    }
   ],
   "source": [
    "population_list = pd_data[\"人口\"].tolist()\n",
    "print(population_list)"
   ]
  },
  {
   "cell_type": "code",
   "execution_count": 22,
   "metadata": {},
   "outputs": [
    {
     "name": "stdout",
     "output_type": "stream",
     "text": [
      "最大人口數 :  70407923\n"
     ]
    }
   ],
   "source": [
    "print('最大人口數 : ', max(population_list))"
   ]
  },
  {
   "cell_type": "code",
   "execution_count": 23,
   "metadata": {},
   "outputs": [
    {
     "name": "stdout",
     "output_type": "stream",
     "text": [
      "['Taiwan', 'United State', 'Thailand']\n",
      "Taiwan\n",
      "United State\n",
      "Thailand\n",
      "列數： 3\n",
      "1\n",
      "最多人口的國家是： United State\n"
     ]
    }
   ],
   "source": [
    "country_list = pd_data[\"國家\"].tolist()\n",
    "print(country_list)\n",
    "for x in country_list:\n",
    "    print(x)\n",
    "rows = pd_data.shape[0]\n",
    "print('列數：',rows)\n",
    "\n",
    "for i in range(0,rows):\n",
    "    if population_list[i] == max(population_list):\n",
    "        print(i)\n",
    "        print('最多人口的國家是：',country_list[i])\n",
    "\n",
    "\n",
    "#for y in population_list:\n",
    "    #print(y)\n",
    "   # if y == 5:\n",
    "       # print('Index of max value', population_list.index(5))"
   ]
  },
  {
   "cell_type": "code",
   "execution_count": null,
   "metadata": {},
   "outputs": [],
   "source": []
  },
  {
   "cell_type": "code",
   "execution_count": null,
   "metadata": {},
   "outputs": [],
   "source": []
  },
  {
   "cell_type": "code",
   "execution_count": null,
   "metadata": {},
   "outputs": [],
   "source": []
  },
  {
   "cell_type": "code",
   "execution_count": null,
   "metadata": {},
   "outputs": [],
   "source": []
  }
 ],
 "metadata": {
  "kernelspec": {
   "display_name": "Python 3",
   "language": "python",
   "name": "python3"
  },
  "language_info": {
   "codemirror_mode": {
    "name": "ipython",
    "version": 3
   },
   "file_extension": ".py",
   "mimetype": "text/x-python",
   "name": "python",
   "nbconvert_exporter": "python",
   "pygments_lexer": "ipython3",
   "version": "3.7.3"
  }
 },
 "nbformat": 4,
 "nbformat_minor": 2
}
